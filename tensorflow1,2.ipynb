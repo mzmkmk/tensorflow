{
 "cells": [
  {
   "cell_type": "code",
   "execution_count": 4,
   "metadata": {},
   "outputs": [],
   "source": [
    "import tensorflow as tf"
   ]
  },
  {
   "cell_type": "code",
   "execution_count": 23,
   "metadata": {},
   "outputs": [
    {
     "name": "stdout",
     "output_type": "stream",
     "text": [
      "[[15]]\n"
     ]
    }
   ],
   "source": [
    "#创建一个常量op\n",
    "m1=tf.constant([[3,3]])\n",
    "m2=tf.constant([[2],[3]])\n",
    "#创建一个矩阵乘法的op\n",
    "product=tf.matmul(m1,m2)\n",
    "#定义一个会话，启动默认图\n",
    "sess=tf.Session()\n",
    "#调用sess的run方法来执行矩阵乘法op\n",
    "#run(product)触发图中三个op\n",
    "result=sess.run(product)\n",
    "print(result)\n",
    "#关闭会话\n",
    "sess.close()"
   ]
  },
  {
   "cell_type": "code",
   "execution_count": 6,
   "metadata": {},
   "outputs": [
    {
     "name": "stdout",
     "output_type": "stream",
     "text": [
      "[[15]]\n"
     ]
    }
   ],
   "source": [
    "m1=tf.constant([[3,3]])\n",
    "m2=tf.constant([[2],[3]])\n",
    "product=tf.matmul(m1,m2)\n",
    "sess=tf.Session()\n",
    "result=sess.run(product)\n",
    "print(result)\n",
    "sess.close()"
   ]
  },
  {
   "cell_type": "code",
   "execution_count": 19,
   "metadata": {},
   "outputs": [
    {
     "name": "stdout",
     "output_type": "stream",
     "text": [
      "[-1  1]\n"
     ]
    }
   ],
   "source": [
    "#创建一个变量op\n",
    "x=tf.Variable([1,2])\n",
    "#创建一个常量op\n",
    "y=tf.constant([3,3])\n",
    "#增加一个减法op\n",
    "sub=tf.subtract(x,y)\n",
    "#增加一个加法op \n",
    "add=tf.add(x,sub)\n",
    "#初始化所有变量\n",
    "init=tf.global_variables_initializer()\n",
    "#自动关闭会话\n",
    "with tf.Session() as sess:\n",
    "    sess.run(init)\n",
    "    print(sess.run(add))"
   ]
  },
  {
   "cell_type": "code",
   "execution_count": 24,
   "metadata": {},
   "outputs": [
    {
     "name": "stdout",
     "output_type": "stream",
     "text": [
      "0\n",
      "1\n",
      "2\n",
      "3\n",
      "4\n",
      "5\n"
     ]
    }
   ],
   "source": [
    "#创建一个变量op\n",
    "state=tf.Variable(0)\n",
    "#创建一个加法op\n",
    "add=tf.add(state,1)\n",
    "#赋值op\n",
    "update=tf.assign(state,add)\n",
    "#初始化所有变量\n",
    "init=tf.global_variables_initializer()\n",
    "with tf.Session() as sess:\n",
    "    sess.run(init)\n",
    "    print(sess.run(state))\n",
    "    for _ in range(5):\n",
    "        print(sess.run(update))"
   ]
  },
  {
   "cell_type": "code",
   "execution_count": 21,
   "metadata": {},
   "outputs": [
    {
     "name": "stdout",
     "output_type": "stream",
     "text": [
      "21.0\n",
      "[7.0, 21.0]\n"
     ]
    }
   ],
   "source": [
    "#fetch(同时运行多个op)\n",
    "#创建3个常量op\n",
    "input1=tf.constant(3.0)\n",
    "input2=tf.constant(2.0)\n",
    "input3=tf.constant(5.0)\n",
    "\n",
    "add=tf.add(input2,input3)\n",
    "mul=tf.multiply(add,input1)\n",
    "\n",
    "with tf.Session() as sess:\n",
    "    print(sess.run(mul))\n",
    "    result = sess.run([add,mul])\n",
    "    print(result)"
   ]
  },
  {
   "cell_type": "code",
   "execution_count": 25,
   "metadata": {},
   "outputs": [
    {
     "name": "stdout",
     "output_type": "stream",
     "text": [
      "14.0\n"
     ]
    }
   ],
   "source": [
    "#feed(喂入资料)\n",
    "#创建占位符\n",
    "input1=tf.placeholder(tf.float32)\n",
    "input2=tf.placeholder(tf.float32)\n",
    "output=tf.multiply(input1,input2)\n",
    "\n",
    "#运行output,input1赋值7.0,input2赋值2.0\n",
    "with tf.Session() as sess:\n",
    "    #feed的数据以字典的形式传入\n",
    "    result = sess.run(output,feed_dict={input1:7.0,input2:2.0})\n",
    "    print(result)        "
   ]
  },
  {
   "cell_type": "code",
   "execution_count": 2,
   "metadata": {},
   "outputs": [
    {
     "name": "stdout",
     "output_type": "stream",
     "text": [
      "0 [0.055044223, 0.10063423]\n",
      "20 [0.104514666, 0.19751972]\n",
      "40 [0.10275465, 0.19848669]\n",
      "60 [0.10168074, 0.19907665]\n",
      "80 [0.10102551, 0.19943662]\n",
      "100 [0.10062571, 0.19965625]\n",
      "120 [0.10038177, 0.19979027]\n",
      "140 [0.100232914, 0.19987205]\n",
      "160 [0.10014211, 0.19992194]\n",
      "180 [0.10008671, 0.19995236]\n",
      "200 [0.10005291, 0.19997093]\n"
     ]
    }
   ],
   "source": [
    "#简单示例\n",
    "import tensorflow as tf\n",
    "import numpy as np\n",
    "\n",
    "x_data=np.random.rand(100)\n",
    "y_data=x_data*0.1+0.2\n",
    "\n",
    "b=tf.Variable(0.)\n",
    "k=tf.Variable(0.)\n",
    "y=k*x_data + b\n",
    "\n",
    "#求二次代价函数\n",
    "loss=tf.reduce_mean(tf.square(y_data-y))\n",
    "#定义一个梯度下降法来进行训练的优化器\n",
    "optimizer = tf.train.GradientDescentOptimizer(0.2)\n",
    "#最小化代价函数\n",
    "train = optimizer.minimize(loss)\n",
    "\n",
    "#初始化变量\n",
    "init=tf.global_variables_initializer()\n",
    "\n",
    "with tf.Session() as sess:\n",
    "    sess.run(init)\n",
    "    for step in range(201):\n",
    "        sess.run(train)\n",
    "        if step%20 ==0:\n",
    "            print(step,sess.run([k,b]))\n",
    "        \n"
   ]
  },
  {
   "cell_type": "code",
   "execution_count": null,
   "metadata": {},
   "outputs": [],
   "source": []
  }
 ],
 "metadata": {
  "kernelspec": {
   "display_name": "Python 3",
   "language": "python",
   "name": "python3"
  },
  "language_info": {
   "codemirror_mode": {
    "name": "ipython",
    "version": 3
   },
   "file_extension": ".py",
   "mimetype": "text/x-python",
   "name": "python",
   "nbconvert_exporter": "python",
   "pygments_lexer": "ipython3",
   "version": "3.5.5"
  }
 },
 "nbformat": 4,
 "nbformat_minor": 2
}
